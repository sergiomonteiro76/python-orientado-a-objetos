{
  "nbformat": 4,
  "nbformat_minor": 0,
  "metadata": {
    "colab": {
      "name": "Programação Orientada a Objetos.ipynb",
      "provenance": [],
      "collapsed_sections": [
        "lU5GucV3w_AC"
      ]
    },
    "kernelspec": {
      "name": "python3",
      "display_name": "Python 3"
    },
    "language_info": {
      "name": "python"
    }
  },
  "cells": [
    {
      "cell_type": "markdown",
      "source": [
        "# **Assunto: Programação Orientada a Objetos**\n",
        "\n",
        "**professor: Sérgio Assunção Monteiro, DSc**"
      ],
      "metadata": {
        "id": "lU5GucV3w_AC"
      }
    },
    {
      "cell_type": "markdown",
      "source": [
        "# **Contexto** \n",
        "\n",
        "Sérgio Monteiro começou a praticar corrida recentemente. Ele entende a importância desse exercício e, realmente, quer levar a sério. Para ajudá-lo nessa missão, ele implementou um programa em Python orientado a objetos que armazena os dados das corridas por mês e os apresenta em um gráfico, para que ele possa visualizar o desempenho dele. Mas ele resolveu ir um pouco mais além e estudar a tendência do desempenho dele. Abaixo, está o resultado do programa que ele implementou.\n"
      ],
      "metadata": {
        "id": "O4XtcESKzTG2"
      }
    },
    {
      "cell_type": "markdown",
      "source": [
        "**Classe Pessoa**"
      ],
      "metadata": {
        "id": "N8iYiW5d2ip2"
      }
    },
    {
      "cell_type": "code",
      "source": [
        "class Pessoa:  \n",
        "    def __init__(self, nome, ender):\n",
        "        self.set_nome(nome)\n",
        "        self.set_ender(ender)\n",
        "\n",
        "    def set_nome(self, nome):\n",
        "      self.nome=nome\n",
        "\n",
        "    def set_ender(self, ender):\n",
        "      self.ender=ender\n",
        "\n",
        "    def get_nome(self):\n",
        "      return self.nome\n",
        "    \n",
        "    def get_ender(self):\n",
        "      return self.ender"
      ],
      "metadata": {
        "id": "ibDU3yv-1H4d"
      },
      "execution_count": 5,
      "outputs": []
    },
    {
      "cell_type": "markdown",
      "source": [
        "**Objeto pessoa**"
      ],
      "metadata": {
        "id": "7ufh40B02lFk"
      }
    },
    {
      "cell_type": "code",
      "source": [
        "pessoa1 = Pessoa(\"maria\",\"rua 01234\")\n",
        "pessoa2 = Pessoa(\"joão\",\"rua 56789\")"
      ],
      "metadata": {
        "id": "nZSrjJz22hFk"
      },
      "execution_count": 6,
      "outputs": []
    },
    {
      "cell_type": "markdown",
      "source": [
        "**Imprimir cada um dos objetos**"
      ],
      "metadata": {
        "id": "M431pHkY4daq"
      }
    },
    {
      "cell_type": "code",
      "source": [
        "print(f'Nome: {pessoa1.get_nome()}, Endereço: {pessoa1.get_ender()}')"
      ],
      "metadata": {
        "colab": {
          "base_uri": "https://localhost:8080/"
        },
        "id": "F6q8BIGr3pOK",
        "outputId": "3a82cb89-4a3b-4d81-a5c3-999ab9388362"
      },
      "execution_count": 12,
      "outputs": [
        {
          "output_type": "stream",
          "name": "stdout",
          "text": [
            "Nome: maria, Endereço: rua 01234\n"
          ]
        }
      ]
    },
    {
      "cell_type": "code",
      "source": [
        "print(f'Nome: {pessoa2.get_nome()}, Endereço: {pessoa2.get_ender()}')"
      ],
      "metadata": {
        "colab": {
          "base_uri": "https://localhost:8080/"
        },
        "id": "ttTQf75N4uvK",
        "outputId": "b98acfdd-9fd0-4b80-d96a-a65ffb166e07"
      },
      "execution_count": 13,
      "outputs": [
        {
          "output_type": "stream",
          "name": "stdout",
          "text": [
            "Nome: joão, Endereço: rua 56789\n"
          ]
        }
      ]
    },
    {
      "cell_type": "markdown",
      "source": [
        "**Criar uma função para imprimir dados**"
      ],
      "metadata": {
        "id": "EhAtHrOh49RN"
      }
    },
    {
      "cell_type": "code",
      "source": [
        "def imprimir_dados(pessoa):\n",
        "  print(f'Nome: {pessoa.get_nome()}, Endereço: {pessoa.get_ender()}')"
      ],
      "metadata": {
        "id": "q6Ra2zIr5BWJ"
      },
      "execution_count": 14,
      "outputs": []
    },
    {
      "cell_type": "code",
      "source": [
        "imprimir_dados(pessoa1)"
      ],
      "metadata": {
        "colab": {
          "base_uri": "https://localhost:8080/"
        },
        "id": "7u6szuxi5LRr",
        "outputId": "f849f1ea-8549-43a8-fd6e-a1d140894a3c"
      },
      "execution_count": 15,
      "outputs": [
        {
          "output_type": "stream",
          "name": "stdout",
          "text": [
            "Nome: maria, Endereço: rua 01234\n"
          ]
        }
      ]
    },
    {
      "cell_type": "code",
      "source": [
        "imprimir_dados(pessoa2)"
      ],
      "metadata": {
        "colab": {
          "base_uri": "https://localhost:8080/"
        },
        "id": "88LVLoCa5PqC",
        "outputId": "0fb0903a-0b11-40df-cffe-3e6ba83bc788"
      },
      "execution_count": 16,
      "outputs": [
        {
          "output_type": "stream",
          "name": "stdout",
          "text": [
            "Nome: joão, Endereço: rua 56789\n"
          ]
        }
      ]
    },
    {
      "cell_type": "markdown",
      "source": [
        "**Criar uma função Lambda para imprimir dados**"
      ],
      "metadata": {
        "id": "gp25xS2-5djC"
      }
    },
    {
      "cell_type": "code",
      "source": [
        "imprimir= lambda pessoa: print(f'Nome: {pessoa.get_nome()}, Endereço: {pessoa.get_ender()}')"
      ],
      "metadata": {
        "id": "kXXDDh7M5gyC"
      },
      "execution_count": 17,
      "outputs": []
    },
    {
      "cell_type": "code",
      "source": [
        "imprimir(pessoa1)"
      ],
      "metadata": {
        "colab": {
          "base_uri": "https://localhost:8080/"
        },
        "id": "0kGO-VCi5tCB",
        "outputId": "3f575d01-01a1-40e1-9d19-6a1ef1899154"
      },
      "execution_count": 18,
      "outputs": [
        {
          "output_type": "stream",
          "name": "stdout",
          "text": [
            "Nome: maria, Endereço: rua 01234\n"
          ]
        }
      ]
    },
    {
      "cell_type": "code",
      "source": [
        "imprimir(pessoa2)"
      ],
      "metadata": {
        "colab": {
          "base_uri": "https://localhost:8080/"
        },
        "id": "ERAU58nq5xip",
        "outputId": "5c0e9cc4-6c4e-4f5f-c471-8cd92ce04f61"
      },
      "execution_count": 19,
      "outputs": [
        {
          "output_type": "stream",
          "name": "stdout",
          "text": [
            "Nome: joão, Endereço: rua 56789\n"
          ]
        }
      ]
    },
    {
      "cell_type": "markdown",
      "source": [
        "**Mudar a Classe Pessoa**"
      ],
      "metadata": {
        "id": "G7gzAL-_52rx"
      }
    },
    {
      "cell_type": "code",
      "source": [
        "class PessoaModificada:  \n",
        "    def __init__(self, nome, ender):\n",
        "        self.set_nome(nome)\n",
        "        self.set_ender(ender)\n",
        "\n",
        "    def set_nome(self, nome):\n",
        "      self.nome=nome\n",
        "\n",
        "    def set_ender(self, ender):\n",
        "      self.ender=ender\n",
        "\n",
        "    def get_nome(self):\n",
        "      return self.nome\n",
        "    \n",
        "    def get_ender(self):\n",
        "      return self.ender\n",
        "    def imprimir_dados(self):\n",
        "      print(f'Nome: {self.get_nome()}, Endereço: {self.get_ender()}')      "
      ],
      "metadata": {
        "id": "0hECMonC55Jp"
      },
      "execution_count": 21,
      "outputs": []
    },
    {
      "cell_type": "markdown",
      "source": [
        "**Objetos**"
      ],
      "metadata": {
        "id": "UGG64SsG6NDx"
      }
    },
    {
      "cell_type": "code",
      "source": [
        "pessoa1M = PessoaModificada(\"maria\",\"rua 01234\")\n",
        "pessoa2M = PessoaModificada(\"joão\",\"rua 56789\")"
      ],
      "metadata": {
        "id": "vtVytKeR6O4Z"
      },
      "execution_count": 22,
      "outputs": []
    },
    {
      "cell_type": "markdown",
      "source": [
        "**Imprimir Dados**"
      ],
      "metadata": {
        "id": "6ei6nGRv6YVh"
      }
    },
    {
      "cell_type": "code",
      "source": [
        "pessoa1M.imprimir_dados()"
      ],
      "metadata": {
        "colab": {
          "base_uri": "https://localhost:8080/"
        },
        "id": "5Fj3PI-z6bJB",
        "outputId": "9b8f7a25-6be9-4f2a-ea95-a87c7d2e5965"
      },
      "execution_count": 23,
      "outputs": [
        {
          "output_type": "stream",
          "name": "stdout",
          "text": [
            "Nome: maria, Endereço: rua 01234\n"
          ]
        }
      ]
    },
    {
      "cell_type": "code",
      "source": [
        "pessoa2M.imprimir_dados()"
      ],
      "metadata": {
        "colab": {
          "base_uri": "https://localhost:8080/"
        },
        "id": "NFfmH4Sn6gqI",
        "outputId": "99fc89b5-9e5c-4e21-fb50-b82519729679"
      },
      "execution_count": 24,
      "outputs": [
        {
          "output_type": "stream",
          "name": "stdout",
          "text": [
            "Nome: joão, Endereço: rua 56789\n"
          ]
        }
      ]
    },
    {
      "cell_type": "markdown",
      "source": [
        "**Classe de Gráficos**"
      ],
      "metadata": {
        "id": "LEwqto5466IB"
      }
    },
    {
      "cell_type": "code",
      "source": [
        "from sklearn.linear_model import LinearRegression\n",
        "import numpy as np\n",
        "import matplotlib.pyplot as plt\n",
        "\n",
        "class Grafico:  \n",
        "  def __init__(self, lista_corridas):\n",
        "    self.lista_corridas=lista_corridas\n",
        "    self.imprimir_graficos()\n",
        "\n",
        "  def padrao_do_grafico(self):\n",
        "    plt.xlabel('Dia')\n",
        "    plt.ylabel('Corrida em metros(m)')\n",
        "    plt.title('Gráficos de Corridas')    \n",
        "\n",
        "  def imprimir_graficos(self):\n",
        "    self.padrao_do_grafico()\n",
        "    for corrida in self.lista_corridas:\n",
        "      mLista = corrida.dicionario.items()\n",
        "      cor = corrida.cor\n",
        "      nome = corrida.nome\n",
        "      x, y = zip(*mLista)\n",
        "      plt.plot(x, y, label = nome, marker='o', \n",
        "               markerfacecolor='blue', \n",
        "               markersize=12, \n",
        "               color=cor, \n",
        "               linewidth=4)\n",
        "    plt.legend()\n",
        "    plt.show()\n",
        "\n",
        "  def regressao_linear(self, id_grafico):\n",
        "    corrida = self.lista_corridas[id_grafico]\n",
        "    mLista = corrida.dicionario.items()    \n",
        "    cor = corrida.cor\n",
        "    nome = corrida.nome\n",
        "    dias, valores = zip(*mLista)\n",
        "    dias = np.array(dias)\n",
        "    valores = np.array(valores)\n",
        "    dias = dias.reshape(-1, 1)\n",
        "    valores = valores.reshape(-1, 1)\n",
        "    regr = LinearRegression()\n",
        "    regr.fit(X=dias, y=valores)\n",
        "    plt.plot(dias, regr.predict(dias), \n",
        "             color='blue',\n",
        "             label = \"Regressão Linear\")\n",
        "\n",
        "    x, y = zip(*mLista)\n",
        "    plt.plot(x, y, label = nome+str(\" - original\"), \n",
        "             marker='o', \n",
        "             markerfacecolor='olive', \n",
        "             markersize=12, \n",
        "             color=cor, \n",
        "             linewidth=4)\n",
        "\n",
        "    plt.legend()\n",
        "    plt.show()\n"
      ],
      "metadata": {
        "id": "Zfvn9iL969Cx"
      },
      "execution_count": 25,
      "outputs": []
    },
    {
      "cell_type": "markdown",
      "source": [
        "**Classe de Corridas**"
      ],
      "metadata": {
        "id": "N9x0lcsx-jm2"
      }
    },
    {
      "cell_type": "code",
      "source": [
        "class Corrida:\n",
        "    def __init__(self, dicionario, cor, nome):\n",
        "        self.dicionario = dicionario\n",
        "        self.cor=cor\n",
        "        self.nome = nome"
      ],
      "metadata": {
        "id": "0rIgMdQ3-ovu"
      },
      "execution_count": 26,
      "outputs": []
    },
    {
      "cell_type": "markdown",
      "source": [
        "**Chamadas**"
      ],
      "metadata": {
        "id": "LY0G14Il-skO"
      }
    },
    {
      "cell_type": "code",
      "source": [
        "maio = Corrida({1:1000,5:1000,7:1500,17:1500,20:1700,29:2000},'skyblue','maio')\n",
        "junho = Corrida({1:1000,3:1000,5:1500,7:1500,15:1500,20:1700,27:2000},'red','junho')\n",
        "julho = Corrida({1:1000,3:1000,5:1500,7:1500,10:2000,15:2000,20:2700,27:2500},'olive','julho')\n",
        "lista_corridas = [maio,junho,julho]"
      ],
      "metadata": {
        "id": "58lT9N27-vfG"
      },
      "execution_count": 32,
      "outputs": []
    },
    {
      "cell_type": "markdown",
      "source": [
        "**Gráfico de Desempenho**"
      ],
      "metadata": {
        "id": "3QiHrykqDFOT"
      }
    },
    {
      "cell_type": "code",
      "source": [
        "grafico = Grafico(lista_corridas)"
      ],
      "metadata": {
        "colab": {
          "base_uri": "https://localhost:8080/",
          "height": 295
        },
        "id": "JpaNe6djDJdK",
        "outputId": "fc06ba3c-4a0b-4caa-f638-bfbb7a9f2090"
      },
      "execution_count": 33,
      "outputs": [
        {
          "output_type": "display_data",
          "data": {
            "text/plain": [
              "<Figure size 432x288 with 1 Axes>"
            ],
            "image/png": "[encoded data removed]"
          },
          "metadata": {
            "needs_background": "light"
          }
        }
      ]
    },
    {
      "cell_type": "markdown",
      "source": [
        "**Regressão Linear (Estudo de Tendência)**"
      ],
      "metadata": {
        "id": "m7inGbHSDKA6"
      }
    },
    {
      "cell_type": "code",
      "source": [
        "id_mes = 0 #mês de maio\n",
        "grafico.regressao_linear(id_mes)"
      ],
      "metadata": {
        "colab": {
          "base_uri": "https://localhost:8080/",
          "height": 265
        },
        "id": "zLn_lzLXDPcS",
        "outputId": "15ffb0fc-538c-46e7-8a28-e8c4701de1f8"
      },
      "execution_count": 34,
      "outputs": [
        {
          "output_type": "display_data",
          "data": {
            "text/plain": [
              "<Figure size 432x288 with 1 Axes>"
            ],
            "image/png": "[encoded data removed]"
          },
          "metadata": {
            "needs_background": "light"
          }
        }
      ]
    }
  ]
}